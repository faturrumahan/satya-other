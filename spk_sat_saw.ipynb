{
  "cells": [
    {
      "cell_type": "code",
      "execution_count": 48,
      "metadata": {
        "id": "6TlGIPpDLxvi"
      },
      "outputs": [],
      "source": [
        "import requests\n",
        "import json\n",
        "import pandas as pd\n",
        "import numpy as np"
      ]
    },
    {
      "cell_type": "code",
      "execution_count": 49,
      "metadata": {},
      "outputs": [],
      "source": [
        "# get list posisi\n",
        "posisi = requests.get('http://127.0.0.1:4000/posisi').json()\n",
        "posisi_array = [item['nama'] for item in posisi['data']]"
      ]
    },
    {
      "cell_type": "code",
      "execution_count": 50,
      "metadata": {},
      "outputs": [],
      "source": [
        "# get list kriteria\n",
        "kriteria = requests.get('http://127.0.0.1:4000/kriteria').json()"
      ]
    },
    {
      "cell_type": "code",
      "execution_count": 51,
      "metadata": {},
      "outputs": [],
      "source": [
        "# add kecocokan_jurusan criteria\n",
        "kecocokan_jurusan = {\n",
        "    'id': 99,\n",
        "    'nama': 'kecocokan_jurusan',\n",
        "    'tipe': 'benefit',\n",
        "    'kepentingan': 'sangat penting',\n",
        "    'created_at': None,\n",
        "    'updated_at': None\n",
        "}\n",
        "kriteria['data'].append(kecocokan_jurusan)\n",
        "crit = kriteria['data']"
      ]
    },
    {
      "cell_type": "code",
      "execution_count": 52,
      "metadata": {},
      "outputs": [],
      "source": [
        "#df kriteria\n",
        "crit_df = pd.DataFrame(crit)\n",
        "crit_df = crit_df.drop(['id', 'tipe', 'created_at', 'updated_at'], axis=1)"
      ]
    },
    {
      "cell_type": "code",
      "execution_count": 53,
      "metadata": {
        "colab": {
          "base_uri": "https://localhost:8080/",
          "height": 652
        },
        "id": "zIby6YEZMBbl",
        "outputId": "1be9bc69-698a-4170-d2ca-96044b5f08e9"
      },
      "outputs": [],
      "source": [
        "# get data alternatif\n",
        "response=requests.get('http://127.0.0.1:4000/hasil/alternatif').json()\n",
        "df=pd.DataFrame(response['data'])\n",
        "\n",
        "# split\n",
        "df = df.applymap(lambda x: x.split(',') if isinstance(x, str) else x)\n",
        "column_headers = list(df.columns.values)\n",
        "for i in range(len(column_headers)) :\n",
        "    df = df.explode(column_headers[i]).reset_index(drop=True)\n"
      ]
    },
    {
      "cell_type": "code",
      "execution_count": 54,
      "metadata": {},
      "outputs": [],
      "source": [
        "# get data nilai jurusan\n",
        "response_2=requests.get('http://127.0.0.1:4000/hasil/jurusan').json()\n",
        "df_2=pd.DataFrame(response_2['data'])\n",
        "df_2 = df_2.drop(['id'], axis=1)\n",
        "\n",
        "melted_df = pd.melt(df_2, id_vars='nama_jurusan', var_name='posisi', value_name='kecocokan_jurusan')"
      ]
    },
    {
      "cell_type": "code",
      "execution_count": 55,
      "metadata": {},
      "outputs": [],
      "source": [
        "merged_df = pd.merge(df, melted_df, on=['nama_jurusan', 'posisi'], how='left')"
      ]
    },
    {
      "cell_type": "code",
      "execution_count": 56,
      "metadata": {},
      "outputs": [],
      "source": [
        "spk_df = merged_df.drop(['nama', 'nama_jurusan', 'posisi'], axis=1)"
      ]
    },
    {
      "cell_type": "code",
      "execution_count": 57,
      "metadata": {},
      "outputs": [],
      "source": [
        "# normalisasi kriteria\n",
        "for column in spk_df.columns: \n",
        "    for index, kriteria in enumerate(crit):\n",
        "        # display(crit[index]['tipe'])\n",
        "        if (column == crit[index]['nama']):\n",
        "            if (crit[index]['tipe'] == 'benefit'):\n",
        "                spk_df[column] = spk_df[column]  / spk_df[column].abs().max()\n",
        "            else:\n",
        "                spk_df[column] = spk_df[column]  / spk_df[column].abs().min()"
      ]
    },
    {
      "cell_type": "code",
      "execution_count": 58,
      "metadata": {},
      "outputs": [],
      "source": [
        "#replace tingkat kepentingan\n",
        "dict = {\"sangat kurang penting\" : '1', \"kurang penting\" : '2', \"menengah\": '3', \"penting\" : '4', \"sangat penting\": '5'}\n",
        "crit_df = crit_df.replace({'kepentingan': dict})"
      ]
    },
    {
      "cell_type": "code",
      "execution_count": 59,
      "metadata": {},
      "outputs": [],
      "source": [
        "#perbaikan bobot\n",
        "crit_df['kepentingan'] = crit_df['kepentingan'].astype(float)\n",
        "crit_df['kepentingan'] = crit_df['kepentingan'] / 10"
      ]
    },
    {
      "cell_type": "code",
      "execution_count": 60,
      "metadata": {},
      "outputs": [],
      "source": [
        "#transpose df\n",
        "crit_df = crit_df.set_index('nama').T"
      ]
    },
    {
      "cell_type": "code",
      "execution_count": 61,
      "metadata": {},
      "outputs": [
        {
          "data": {
            "text/plain": [
              "0     1.908491\n",
              "1     1.808491\n",
              "2     2.008491\n",
              "3     2.205996\n",
              "4     2.005996\n",
              "5     1.805996\n",
              "6     2.344552\n",
              "7     2.244552\n",
              "8     2.244552\n",
              "9     2.311841\n",
              "10    2.211841\n",
              "11    1.911841\n",
              "12    1.740517\n",
              "13    1.840517\n",
              "14    2.040517\n",
              "dtype: float64"
            ]
          },
          "execution_count": 61,
          "metadata": {},
          "output_type": "execute_result"
        }
      ],
      "source": [
        "# pemeringkatan\n",
        "common_columns = []\n",
        "for column in spk_df.columns: \n",
        "    common_columns.append(column)\n",
        "\n",
        "spk_df = spk_df[common_columns]\n",
        "crit_df = crit_df[common_columns]\n",
        "df_result = spk_df * crit_df.iloc[0]\n",
        "\n",
        "result_value = df_result.sum(axis=1)\n",
        "result_value"
      ]
    },
    {
      "cell_type": "code",
      "execution_count": 62,
      "metadata": {},
      "outputs": [
        {
          "data": {
            "text/html": [
              "<div>\n",
              "<style scoped>\n",
              "    .dataframe tbody tr th:only-of-type {\n",
              "        vertical-align: middle;\n",
              "    }\n",
              "\n",
              "    .dataframe tbody tr th {\n",
              "        vertical-align: top;\n",
              "    }\n",
              "\n",
              "    .dataframe thead th {\n",
              "        text-align: right;\n",
              "    }\n",
              "</style>\n",
              "<table border=\"1\" class=\"dataframe\">\n",
              "  <thead>\n",
              "    <tr style=\"text-align: right;\">\n",
              "      <th></th>\n",
              "      <th>nama</th>\n",
              "      <th>nama_jurusan</th>\n",
              "      <th>posisi</th>\n",
              "      <th>skor</th>\n",
              "    </tr>\n",
              "  </thead>\n",
              "  <tbody>\n",
              "    <tr>\n",
              "      <th>6</th>\n",
              "      <td>SUGIHARTO</td>\n",
              "      <td>pengelolaan arsip dan rekaman informasi</td>\n",
              "      <td>kurator</td>\n",
              "      <td>2.344552</td>\n",
              "    </tr>\n",
              "    <tr>\n",
              "      <th>9</th>\n",
              "      <td>RAHMADIA ANISA PUTRI</td>\n",
              "      <td>teknologi rekayasa multimedia grafis</td>\n",
              "      <td>branding museum</td>\n",
              "      <td>2.311841</td>\n",
              "    </tr>\n",
              "    <tr>\n",
              "      <th>3</th>\n",
              "      <td>Kania Nurfitri Azzahra</td>\n",
              "      <td>arkeologi</td>\n",
              "      <td>kurator</td>\n",
              "      <td>2.205996</td>\n",
              "    </tr>\n",
              "    <tr>\n",
              "      <th>14</th>\n",
              "      <td>Naufal Aji Satria</td>\n",
              "      <td>administrasi publik</td>\n",
              "      <td>edukator</td>\n",
              "      <td>2.040517</td>\n",
              "    </tr>\n",
              "    <tr>\n",
              "      <th>2</th>\n",
              "      <td>Urmala Pingky Diavirma</td>\n",
              "      <td>ilmu administrasi negara</td>\n",
              "      <td>edukator</td>\n",
              "      <td>2.008491</td>\n",
              "    </tr>\n",
              "  </tbody>\n",
              "</table>\n",
              "</div>"
            ],
            "text/plain": [
              "                      nama                             nama_jurusan  \\\n",
              "6                SUGIHARTO  pengelolaan arsip dan rekaman informasi   \n",
              "9     RAHMADIA ANISA PUTRI     teknologi rekayasa multimedia grafis   \n",
              "3   Kania Nurfitri Azzahra                                arkeologi   \n",
              "14       Naufal Aji Satria                      administrasi publik   \n",
              "2   Urmala Pingky Diavirma                 ilmu administrasi negara   \n",
              "\n",
              "             posisi      skor  \n",
              "6           kurator  2.344552  \n",
              "9   branding museum  2.311841  \n",
              "3           kurator  2.205996  \n",
              "14         edukator  2.040517  \n",
              "2          edukator  2.008491  "
            ]
          },
          "execution_count": 62,
          "metadata": {},
          "output_type": "execute_result"
        }
      ],
      "source": [
        "result_spk = merged_df[['nama', 'nama_jurusan', 'posisi']].copy()\n",
        "result_spk = result_spk.assign(skor=result_value)\n",
        "result_spk = result_spk.sort_values(by=['skor'], ascending=False)\n",
        "result_spk.drop_duplicates(subset=[\"nama\"])"
      ]
    },
    {
      "cell_type": "code",
      "execution_count": 63,
      "metadata": {},
      "outputs": [
        {
          "data": {
            "text/html": [
              "<div>\n",
              "<style scoped>\n",
              "    .dataframe tbody tr th:only-of-type {\n",
              "        vertical-align: middle;\n",
              "    }\n",
              "\n",
              "    .dataframe tbody tr th {\n",
              "        vertical-align: top;\n",
              "    }\n",
              "\n",
              "    .dataframe thead th {\n",
              "        text-align: right;\n",
              "    }\n",
              "</style>\n",
              "<table border=\"1\" class=\"dataframe\">\n",
              "  <thead>\n",
              "    <tr style=\"text-align: right;\">\n",
              "      <th></th>\n",
              "      <th>nama</th>\n",
              "      <th>nama_jurusan</th>\n",
              "      <th>posisi</th>\n",
              "      <th>skor</th>\n",
              "    </tr>\n",
              "  </thead>\n",
              "  <tbody>\n",
              "    <tr>\n",
              "      <th>6</th>\n",
              "      <td>SUGIHARTO</td>\n",
              "      <td>pengelolaan arsip dan rekaman informasi</td>\n",
              "      <td>kurator</td>\n",
              "      <td>2.344552</td>\n",
              "    </tr>\n",
              "    <tr>\n",
              "      <th>9</th>\n",
              "      <td>RAHMADIA ANISA PUTRI</td>\n",
              "      <td>teknologi rekayasa multimedia grafis</td>\n",
              "      <td>branding museum</td>\n",
              "      <td>2.311841</td>\n",
              "    </tr>\n",
              "    <tr>\n",
              "      <th>7</th>\n",
              "      <td>SUGIHARTO</td>\n",
              "      <td>pengelolaan arsip dan rekaman informasi</td>\n",
              "      <td>branding museum</td>\n",
              "      <td>2.244552</td>\n",
              "    </tr>\n",
              "    <tr>\n",
              "      <th>8</th>\n",
              "      <td>SUGIHARTO</td>\n",
              "      <td>pengelolaan arsip dan rekaman informasi</td>\n",
              "      <td>edukator</td>\n",
              "      <td>2.244552</td>\n",
              "    </tr>\n",
              "    <tr>\n",
              "      <th>10</th>\n",
              "      <td>RAHMADIA ANISA PUTRI</td>\n",
              "      <td>teknologi rekayasa multimedia grafis</td>\n",
              "      <td>edukator</td>\n",
              "      <td>2.211841</td>\n",
              "    </tr>\n",
              "    <tr>\n",
              "      <th>3</th>\n",
              "      <td>Kania Nurfitri Azzahra</td>\n",
              "      <td>arkeologi</td>\n",
              "      <td>kurator</td>\n",
              "      <td>2.205996</td>\n",
              "    </tr>\n",
              "    <tr>\n",
              "      <th>14</th>\n",
              "      <td>Naufal Aji Satria</td>\n",
              "      <td>administrasi publik</td>\n",
              "      <td>edukator</td>\n",
              "      <td>2.040517</td>\n",
              "    </tr>\n",
              "    <tr>\n",
              "      <th>2</th>\n",
              "      <td>Urmala Pingky Diavirma</td>\n",
              "      <td>ilmu administrasi negara</td>\n",
              "      <td>edukator</td>\n",
              "      <td>2.008491</td>\n",
              "    </tr>\n",
              "    <tr>\n",
              "      <th>4</th>\n",
              "      <td>Kania Nurfitri Azzahra</td>\n",
              "      <td>arkeologi</td>\n",
              "      <td>edukator</td>\n",
              "      <td>2.005996</td>\n",
              "    </tr>\n",
              "    <tr>\n",
              "      <th>11</th>\n",
              "      <td>RAHMADIA ANISA PUTRI</td>\n",
              "      <td>teknologi rekayasa multimedia grafis</td>\n",
              "      <td>kurator</td>\n",
              "      <td>1.911841</td>\n",
              "    </tr>\n",
              "    <tr>\n",
              "      <th>0</th>\n",
              "      <td>Urmala Pingky Diavirma</td>\n",
              "      <td>ilmu administrasi negara</td>\n",
              "      <td>kurator</td>\n",
              "      <td>1.908491</td>\n",
              "    </tr>\n",
              "    <tr>\n",
              "      <th>13</th>\n",
              "      <td>Naufal Aji Satria</td>\n",
              "      <td>administrasi publik</td>\n",
              "      <td>kurator</td>\n",
              "      <td>1.840517</td>\n",
              "    </tr>\n",
              "    <tr>\n",
              "      <th>1</th>\n",
              "      <td>Urmala Pingky Diavirma</td>\n",
              "      <td>ilmu administrasi negara</td>\n",
              "      <td>branding museum</td>\n",
              "      <td>1.808491</td>\n",
              "    </tr>\n",
              "    <tr>\n",
              "      <th>5</th>\n",
              "      <td>Kania Nurfitri Azzahra</td>\n",
              "      <td>arkeologi</td>\n",
              "      <td>branding museum</td>\n",
              "      <td>1.805996</td>\n",
              "    </tr>\n",
              "    <tr>\n",
              "      <th>12</th>\n",
              "      <td>Naufal Aji Satria</td>\n",
              "      <td>administrasi publik</td>\n",
              "      <td>branding museum</td>\n",
              "      <td>1.740517</td>\n",
              "    </tr>\n",
              "  </tbody>\n",
              "</table>\n",
              "</div>"
            ],
            "text/plain": [
              "                      nama                             nama_jurusan  \\\n",
              "6                SUGIHARTO  pengelolaan arsip dan rekaman informasi   \n",
              "9     RAHMADIA ANISA PUTRI     teknologi rekayasa multimedia grafis   \n",
              "7                SUGIHARTO  pengelolaan arsip dan rekaman informasi   \n",
              "8                SUGIHARTO  pengelolaan arsip dan rekaman informasi   \n",
              "10    RAHMADIA ANISA PUTRI     teknologi rekayasa multimedia grafis   \n",
              "3   Kania Nurfitri Azzahra                                arkeologi   \n",
              "14       Naufal Aji Satria                      administrasi publik   \n",
              "2   Urmala Pingky Diavirma                 ilmu administrasi negara   \n",
              "4   Kania Nurfitri Azzahra                                arkeologi   \n",
              "11    RAHMADIA ANISA PUTRI     teknologi rekayasa multimedia grafis   \n",
              "0   Urmala Pingky Diavirma                 ilmu administrasi negara   \n",
              "13       Naufal Aji Satria                      administrasi publik   \n",
              "1   Urmala Pingky Diavirma                 ilmu administrasi negara   \n",
              "5   Kania Nurfitri Azzahra                                arkeologi   \n",
              "12       Naufal Aji Satria                      administrasi publik   \n",
              "\n",
              "             posisi      skor  \n",
              "6           kurator  2.344552  \n",
              "9   branding museum  2.311841  \n",
              "7   branding museum  2.244552  \n",
              "8          edukator  2.244552  \n",
              "10         edukator  2.211841  \n",
              "3           kurator  2.205996  \n",
              "14         edukator  2.040517  \n",
              "2          edukator  2.008491  \n",
              "4          edukator  2.005996  \n",
              "11          kurator  1.911841  \n",
              "0           kurator  1.908491  \n",
              "13          kurator  1.840517  \n",
              "1   branding museum  1.808491  \n",
              "5   branding museum  1.805996  \n",
              "12  branding museum  1.740517  "
            ]
          },
          "execution_count": 63,
          "metadata": {},
          "output_type": "execute_result"
        }
      ],
      "source": [
        "result_spk"
      ]
    }
  ],
  "metadata": {
    "colab": {
      "provenance": []
    },
    "kernelspec": {
      "display_name": "Python 3.11.1 64-bit",
      "language": "python",
      "name": "python3"
    },
    "language_info": {
      "codemirror_mode": {
        "name": "ipython",
        "version": 3
      },
      "file_extension": ".py",
      "mimetype": "text/x-python",
      "name": "python",
      "nbconvert_exporter": "python",
      "pygments_lexer": "ipython3",
      "version": "3.11.1"
    },
    "vscode": {
      "interpreter": {
        "hash": "b8714cde6903272b7ca4292882db5cfcaa901f73da86e8047c98a3d067e8ffa3"
      }
    }
  },
  "nbformat": 4,
  "nbformat_minor": 0
}
