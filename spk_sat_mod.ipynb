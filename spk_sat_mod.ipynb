{
  "cells": [
    {
      "cell_type": "code",
      "execution_count": 23,
      "metadata": {
        "id": "6TlGIPpDLxvi"
      },
      "outputs": [],
      "source": [
        "import requests\n",
        "import json\n",
        "import pandas as pd\n",
        "import numpy as np"
      ]
    },
    {
      "cell_type": "code",
      "execution_count": 24,
      "metadata": {},
      "outputs": [],
      "source": [
        "# get list posisi\n",
        "posisi = requests.get('http://127.0.0.1:4000/posisi').json()\n",
        "posisi_array = [item['nama'] for item in posisi['data']]"
      ]
    },
    {
      "cell_type": "code",
      "execution_count": 25,
      "metadata": {},
      "outputs": [],
      "source": [
        "# get list kriteria\n",
        "kriteria = requests.get('http://127.0.0.1:4000/kriteria').json()"
      ]
    },
    {
      "cell_type": "code",
      "execution_count": 26,
      "metadata": {},
      "outputs": [
        {
          "data": {
            "text/plain": [
              "[{'id': 1,\n",
              "  'nama': 'ipk',\n",
              "  'tipe': 'benefit',\n",
              "  'kepentingan': 'penting',\n",
              "  'created_at': None,\n",
              "  'updated_at': None},\n",
              " {'id': 2,\n",
              "  'nama': 'disiplin',\n",
              "  'tipe': 'benefit',\n",
              "  'kepentingan': 'penting',\n",
              "  'created_at': None,\n",
              "  'updated_at': None},\n",
              " {'id': 4,\n",
              "  'nama': 'cv',\n",
              "  'tipe': 'benefit',\n",
              "  'kepentingan': 'sangat penting',\n",
              "  'created_at': None,\n",
              "  'updated_at': None},\n",
              " {'id': 11,\n",
              "  'nama': 'atitude',\n",
              "  'tipe': 'benefit',\n",
              "  'kepentingan': 'penting',\n",
              "  'created_at': None,\n",
              "  'updated_at': None},\n",
              " {'id': 12,\n",
              "  'nama': 'komitmen',\n",
              "  'tipe': 'benefit',\n",
              "  'kepentingan': 'menengah',\n",
              "  'created_at': None,\n",
              "  'updated_at': None},\n",
              " {'id': 13,\n",
              "  'nama': 'test',\n",
              "  'tipe': 'cost',\n",
              "  'kepentingan': 'menengah',\n",
              "  'created_at': None,\n",
              "  'updated_at': None}]"
            ]
          },
          "execution_count": 26,
          "metadata": {},
          "output_type": "execute_result"
        }
      ],
      "source": [
        "kriteria['data']"
      ]
    },
    {
      "cell_type": "code",
      "execution_count": 27,
      "metadata": {},
      "outputs": [],
      "source": [
        "# add kecocokan_jurusan criteria\n",
        "kecocokan_jurusan = {\n",
        "    'id': 99,\n",
        "    'nama': 'kecocokan_jurusan',\n",
        "    'tipe': 'benefit',\n",
        "    'kepentingan': 'sangat penting',\n",
        "    'created_at': None,\n",
        "    'updated_at': None\n",
        "}\n",
        "kriteria['data'].append(kecocokan_jurusan)\n",
        "crit = kriteria['data']"
      ]
    },
    {
      "cell_type": "code",
      "execution_count": 44,
      "metadata": {},
      "outputs": [
        {
          "data": {
            "text/plain": [
              "[{'id': 1,\n",
              "  'nama': 'ipk',\n",
              "  'tipe': 'benefit',\n",
              "  'kepentingan': 'penting',\n",
              "  'created_at': None,\n",
              "  'updated_at': None},\n",
              " {'id': 2,\n",
              "  'nama': 'disiplin',\n",
              "  'tipe': 'benefit',\n",
              "  'kepentingan': 'penting',\n",
              "  'created_at': None,\n",
              "  'updated_at': None},\n",
              " {'id': 4,\n",
              "  'nama': 'cv',\n",
              "  'tipe': 'benefit',\n",
              "  'kepentingan': 'sangat penting',\n",
              "  'created_at': None,\n",
              "  'updated_at': None},\n",
              " {'id': 11,\n",
              "  'nama': 'atitude',\n",
              "  'tipe': 'benefit',\n",
              "  'kepentingan': 'penting',\n",
              "  'created_at': None,\n",
              "  'updated_at': None},\n",
              " {'id': 12,\n",
              "  'nama': 'komitmen',\n",
              "  'tipe': 'benefit',\n",
              "  'kepentingan': 'menengah',\n",
              "  'created_at': None,\n",
              "  'updated_at': None},\n",
              " {'id': 13,\n",
              "  'nama': 'test',\n",
              "  'tipe': 'cost',\n",
              "  'kepentingan': 'menengah',\n",
              "  'created_at': None,\n",
              "  'updated_at': None},\n",
              " {'id': 99,\n",
              "  'nama': 'kecocokan_jurusan',\n",
              "  'tipe': 'benefit',\n",
              "  'kepentingan': 'sangat penting',\n",
              "  'created_at': None,\n",
              "  'updated_at': None}]"
            ]
          },
          "execution_count": 44,
          "metadata": {},
          "output_type": "execute_result"
        }
      ],
      "source": [
        "crit"
      ]
    },
    {
      "cell_type": "code",
      "execution_count": 28,
      "metadata": {},
      "outputs": [],
      "source": [
        "#df kriteria\n",
        "crit_df = pd.DataFrame(crit)\n",
        "crit_df = crit_df.drop(['id', 'tipe', 'created_at', 'updated_at'], axis=1)"
      ]
    },
    {
      "cell_type": "code",
      "execution_count": 29,
      "metadata": {
        "colab": {
          "base_uri": "https://localhost:8080/",
          "height": 652
        },
        "id": "zIby6YEZMBbl",
        "outputId": "1be9bc69-698a-4170-d2ca-96044b5f08e9"
      },
      "outputs": [],
      "source": [
        "# get data alternatif\n",
        "response=requests.get('http://127.0.0.1:4000/hasil/alternatif').json()\n",
        "df=pd.DataFrame(response['data'])\n",
        "\n",
        "# split\n",
        "df = df.applymap(lambda x: x.split(',') if isinstance(x, str) else x)\n",
        "column_headers = list(df.columns.values)\n",
        "for i in range(len(column_headers)) :\n",
        "    df = df.explode(column_headers[i]).reset_index(drop=True)\n"
      ]
    },
    {
      "cell_type": "code",
      "execution_count": 30,
      "metadata": {},
      "outputs": [],
      "source": [
        "# get data nilai jurusan\n",
        "response_2=requests.get('http://127.0.0.1:4000/hasil/jurusan').json()\n",
        "df_2=pd.DataFrame(response_2['data'])\n",
        "df_2 = df_2.drop(['id'], axis=1)\n",
        "\n",
        "melted_df = pd.melt(df_2, id_vars='nama_jurusan', var_name='posisi', value_name='kecocokan_jurusan')"
      ]
    },
    {
      "cell_type": "code",
      "execution_count": 31,
      "metadata": {},
      "outputs": [],
      "source": [
        "merged_df = pd.merge(df, melted_df, on=['nama_jurusan', 'posisi'], how='left')"
      ]
    },
    {
      "cell_type": "code",
      "execution_count": 32,
      "metadata": {},
      "outputs": [],
      "source": [
        "spk_df = merged_df.drop(['nama', 'nama_jurusan', 'posisi'], axis=1)"
      ]
    },
    {
      "cell_type": "code",
      "execution_count": 33,
      "metadata": {},
      "outputs": [],
      "source": [
        "# normalisasi kriteria\n",
        "for column in spk_df.columns: \n",
        "    for index, kriteria in enumerate(crit):\n",
        "        # display(crit[index]['tipe'])\n",
        "        if (column == crit[index]['nama']):\n",
        "            if (crit[index]['tipe'] == 'benefit'):\n",
        "                spk_df[column] = spk_df[column]  / spk_df[column].abs().max()\n",
        "            else:\n",
        "                spk_df[column] = spk_df[column]  / spk_df[column].abs().min()"
      ]
    },
    {
      "cell_type": "code",
      "execution_count": 45,
      "metadata": {},
      "outputs": [
        {
          "data": {
            "text/html": [
              "<div>\n",
              "<style scoped>\n",
              "    .dataframe tbody tr th:only-of-type {\n",
              "        vertical-align: middle;\n",
              "    }\n",
              "\n",
              "    .dataframe tbody tr th {\n",
              "        vertical-align: top;\n",
              "    }\n",
              "\n",
              "    .dataframe thead th {\n",
              "        text-align: right;\n",
              "    }\n",
              "</style>\n",
              "<table border=\"1\" class=\"dataframe\">\n",
              "  <thead>\n",
              "    <tr style=\"text-align: right;\">\n",
              "      <th></th>\n",
              "      <th>disiplin</th>\n",
              "      <th>atitude</th>\n",
              "      <th>komitmen</th>\n",
              "      <th>cv</th>\n",
              "      <th>ipk</th>\n",
              "      <th>test</th>\n",
              "      <th>kecocokan_jurusan</th>\n",
              "    </tr>\n",
              "  </thead>\n",
              "  <tbody>\n",
              "    <tr>\n",
              "      <th>0</th>\n",
              "      <td>0.954023</td>\n",
              "      <td>1.000000</td>\n",
              "      <td>0.555556</td>\n",
              "      <td>0.720430</td>\n",
              "      <td>1.000000</td>\n",
              "      <td>1.0</td>\n",
              "      <td>0.6</td>\n",
              "    </tr>\n",
              "    <tr>\n",
              "      <th>1</th>\n",
              "      <td>0.954023</td>\n",
              "      <td>1.000000</td>\n",
              "      <td>0.555556</td>\n",
              "      <td>0.720430</td>\n",
              "      <td>1.000000</td>\n",
              "      <td>1.0</td>\n",
              "      <td>0.2</td>\n",
              "    </tr>\n",
              "    <tr>\n",
              "      <th>2</th>\n",
              "      <td>0.954023</td>\n",
              "      <td>1.000000</td>\n",
              "      <td>0.555556</td>\n",
              "      <td>0.720430</td>\n",
              "      <td>1.000000</td>\n",
              "      <td>1.0</td>\n",
              "      <td>0.4</td>\n",
              "    </tr>\n",
              "    <tr>\n",
              "      <th>3</th>\n",
              "      <td>0.655172</td>\n",
              "      <td>1.000000</td>\n",
              "      <td>0.866667</td>\n",
              "      <td>0.827957</td>\n",
              "      <td>0.924870</td>\n",
              "      <td>NaN</td>\n",
              "      <td>1.0</td>\n",
              "    </tr>\n",
              "    <tr>\n",
              "      <th>4</th>\n",
              "      <td>0.655172</td>\n",
              "      <td>1.000000</td>\n",
              "      <td>0.866667</td>\n",
              "      <td>0.827957</td>\n",
              "      <td>0.924870</td>\n",
              "      <td>NaN</td>\n",
              "      <td>0.2</td>\n",
              "    </tr>\n",
              "    <tr>\n",
              "      <th>5</th>\n",
              "      <td>0.655172</td>\n",
              "      <td>1.000000</td>\n",
              "      <td>0.866667</td>\n",
              "      <td>0.827957</td>\n",
              "      <td>0.924870</td>\n",
              "      <td>NaN</td>\n",
              "      <td>0.6</td>\n",
              "    </tr>\n",
              "    <tr>\n",
              "      <th>6</th>\n",
              "      <td>0.931034</td>\n",
              "      <td>1.000000</td>\n",
              "      <td>1.000000</td>\n",
              "      <td>0.806452</td>\n",
              "      <td>0.922280</td>\n",
              "      <td>NaN</td>\n",
              "      <td>1.0</td>\n",
              "    </tr>\n",
              "    <tr>\n",
              "      <th>7</th>\n",
              "      <td>0.931034</td>\n",
              "      <td>1.000000</td>\n",
              "      <td>1.000000</td>\n",
              "      <td>0.806452</td>\n",
              "      <td>0.922280</td>\n",
              "      <td>NaN</td>\n",
              "      <td>0.8</td>\n",
              "    </tr>\n",
              "    <tr>\n",
              "      <th>8</th>\n",
              "      <td>0.931034</td>\n",
              "      <td>1.000000</td>\n",
              "      <td>1.000000</td>\n",
              "      <td>0.806452</td>\n",
              "      <td>0.922280</td>\n",
              "      <td>NaN</td>\n",
              "      <td>0.8</td>\n",
              "    </tr>\n",
              "    <tr>\n",
              "      <th>9</th>\n",
              "      <td>0.942529</td>\n",
              "      <td>0.730337</td>\n",
              "      <td>0.933333</td>\n",
              "      <td>1.000000</td>\n",
              "      <td>0.906736</td>\n",
              "      <td>NaN</td>\n",
              "      <td>1.0</td>\n",
              "    </tr>\n",
              "    <tr>\n",
              "      <th>10</th>\n",
              "      <td>0.942529</td>\n",
              "      <td>0.730337</td>\n",
              "      <td>0.933333</td>\n",
              "      <td>1.000000</td>\n",
              "      <td>0.906736</td>\n",
              "      <td>NaN</td>\n",
              "      <td>0.2</td>\n",
              "    </tr>\n",
              "    <tr>\n",
              "      <th>11</th>\n",
              "      <td>0.942529</td>\n",
              "      <td>0.730337</td>\n",
              "      <td>0.933333</td>\n",
              "      <td>1.000000</td>\n",
              "      <td>0.906736</td>\n",
              "      <td>NaN</td>\n",
              "      <td>0.8</td>\n",
              "    </tr>\n",
              "    <tr>\n",
              "      <th>12</th>\n",
              "      <td>1.000000</td>\n",
              "      <td>0.741573</td>\n",
              "      <td>0.977778</td>\n",
              "      <td>0.559140</td>\n",
              "      <td>0.927461</td>\n",
              "      <td>NaN</td>\n",
              "      <td>0.8</td>\n",
              "    </tr>\n",
              "    <tr>\n",
              "      <th>13</th>\n",
              "      <td>1.000000</td>\n",
              "      <td>0.741573</td>\n",
              "      <td>0.977778</td>\n",
              "      <td>0.559140</td>\n",
              "      <td>0.927461</td>\n",
              "      <td>NaN</td>\n",
              "      <td>0.4</td>\n",
              "    </tr>\n",
              "    <tr>\n",
              "      <th>14</th>\n",
              "      <td>1.000000</td>\n",
              "      <td>0.741573</td>\n",
              "      <td>0.977778</td>\n",
              "      <td>0.559140</td>\n",
              "      <td>0.927461</td>\n",
              "      <td>NaN</td>\n",
              "      <td>0.2</td>\n",
              "    </tr>\n",
              "  </tbody>\n",
              "</table>\n",
              "</div>"
            ],
            "text/plain": [
              "    disiplin   atitude  komitmen        cv       ipk  test  kecocokan_jurusan\n",
              "0   0.954023  1.000000  0.555556  0.720430  1.000000   1.0                0.6\n",
              "1   0.954023  1.000000  0.555556  0.720430  1.000000   1.0                0.2\n",
              "2   0.954023  1.000000  0.555556  0.720430  1.000000   1.0                0.4\n",
              "3   0.655172  1.000000  0.866667  0.827957  0.924870   NaN                1.0\n",
              "4   0.655172  1.000000  0.866667  0.827957  0.924870   NaN                0.2\n",
              "5   0.655172  1.000000  0.866667  0.827957  0.924870   NaN                0.6\n",
              "6   0.931034  1.000000  1.000000  0.806452  0.922280   NaN                1.0\n",
              "7   0.931034  1.000000  1.000000  0.806452  0.922280   NaN                0.8\n",
              "8   0.931034  1.000000  1.000000  0.806452  0.922280   NaN                0.8\n",
              "9   0.942529  0.730337  0.933333  1.000000  0.906736   NaN                1.0\n",
              "10  0.942529  0.730337  0.933333  1.000000  0.906736   NaN                0.2\n",
              "11  0.942529  0.730337  0.933333  1.000000  0.906736   NaN                0.8\n",
              "12  1.000000  0.741573  0.977778  0.559140  0.927461   NaN                0.8\n",
              "13  1.000000  0.741573  0.977778  0.559140  0.927461   NaN                0.4\n",
              "14  1.000000  0.741573  0.977778  0.559140  0.927461   NaN                0.2"
            ]
          },
          "execution_count": 45,
          "metadata": {},
          "output_type": "execute_result"
        }
      ],
      "source": [
        "spk_df"
      ]
    },
    {
      "cell_type": "code",
      "execution_count": 34,
      "metadata": {},
      "outputs": [],
      "source": [
        "#replace tingkat kepentingan\n",
        "dict = {\"sangat kurang penting\" : '1', \"kurang penting\" : '2', \"menengah\": '3', \"penting\" : '4', \"sangat penting\": '5'}\n",
        "crit_df = crit_df.replace({'kepentingan': dict})"
      ]
    },
    {
      "cell_type": "code",
      "execution_count": 35,
      "metadata": {},
      "outputs": [],
      "source": [
        "#bobot saw\n",
        "# crit_df['kepentingan'] = crit_df['kepentingan'].astype(float)"
      ]
    },
    {
      "cell_type": "code",
      "execution_count": 36,
      "metadata": {},
      "outputs": [],
      "source": [
        "#perbaikan bobot mod-saw\n",
        "crit_df['kepentingan'] = crit_df['kepentingan'].astype(float)\n",
        "total_kepentingan = crit_df['kepentingan'].sum()\n",
        "crit_df['kepentingan'] = crit_df['kepentingan'] / total_kepentingan"
      ]
    },
    {
      "cell_type": "code",
      "execution_count": 37,
      "metadata": {},
      "outputs": [],
      "source": [
        "#transpose df\n",
        "crit_df = crit_df.set_index('nama').T"
      ]
    },
    {
      "cell_type": "code",
      "execution_count": 38,
      "metadata": {},
      "outputs": [],
      "source": [
        "# vektor S\n",
        "common_columns = []\n",
        "for column in spk_df.columns: \n",
        "    common_columns.append(column)\n",
        "\n",
        "spk_df = spk_df[common_columns]\n",
        "crit_df = crit_df[common_columns]\n",
        "df_result = spk_df ** crit_df.iloc[0]\n",
        "\n",
        "result_value = df_result.prod(axis=1)"
      ]
    },
    {
      "cell_type": "code",
      "execution_count": 39,
      "metadata": {},
      "outputs": [
        {
          "data": {
            "text/plain": [
              "12.01966212743978"
            ]
          },
          "execution_count": 39,
          "metadata": {},
          "output_type": "execute_result"
        }
      ],
      "source": [
        "#pemeringkatan\n",
        "result_value.sum()"
      ]
    },
    {
      "cell_type": "code",
      "execution_count": 40,
      "metadata": {},
      "outputs": [],
      "source": [
        "result_spk = merged_df[['nama', 'nama_jurusan', 'posisi']].copy()\n",
        "result_spk = result_spk.assign(s_vector=result_value)\n",
        "result_spk = result_spk.assign(skor=result_value/result_value.sum())\n",
        "result_spk = result_spk.sort_values(by=['skor'], ascending=False)"
      ]
    },
    {
      "cell_type": "code",
      "execution_count": 41,
      "metadata": {},
      "outputs": [],
      "source": [
        "# for item in posisi_array:\n",
        "#     if(item == \"kurator\"):\n",
        "#         result_spk = result_spk.drop(result_spk[result_spk['posisi'] == item].index)\n",
        "    # else:\n",
        "    #     result_spk = result_spk.drop_duplicates(subset=[\"nama\"])"
      ]
    },
    {
      "cell_type": "code",
      "execution_count": 42,
      "metadata": {},
      "outputs": [],
      "source": [
        "result_spk = result_spk.drop_duplicates(subset=[\"nama\"])"
      ]
    },
    {
      "cell_type": "code",
      "execution_count": 43,
      "metadata": {},
      "outputs": [
        {
          "data": {
            "text/html": [
              "<div>\n",
              "<style scoped>\n",
              "    .dataframe tbody tr th:only-of-type {\n",
              "        vertical-align: middle;\n",
              "    }\n",
              "\n",
              "    .dataframe tbody tr th {\n",
              "        vertical-align: top;\n",
              "    }\n",
              "\n",
              "    .dataframe thead th {\n",
              "        text-align: right;\n",
              "    }\n",
              "</style>\n",
              "<table border=\"1\" class=\"dataframe\">\n",
              "  <thead>\n",
              "    <tr style=\"text-align: right;\">\n",
              "      <th></th>\n",
              "      <th>nama</th>\n",
              "      <th>nama_jurusan</th>\n",
              "      <th>posisi</th>\n",
              "      <th>s_vector</th>\n",
              "      <th>skor</th>\n",
              "    </tr>\n",
              "  </thead>\n",
              "  <tbody>\n",
              "    <tr>\n",
              "      <th>6</th>\n",
              "      <td>SUGIHARTO</td>\n",
              "      <td>pengelolaan arsip dan rekaman informasi</td>\n",
              "      <td>kurator</td>\n",
              "      <td>0.941596</td>\n",
              "      <td>0.078338</td>\n",
              "    </tr>\n",
              "    <tr>\n",
              "      <th>9</th>\n",
              "      <td>RAHMADIA ANISA PUTRI</td>\n",
              "      <td>teknologi rekayasa multimedia grafis</td>\n",
              "      <td>branding museum</td>\n",
              "      <td>0.927997</td>\n",
              "      <td>0.077207</td>\n",
              "    </tr>\n",
              "    <tr>\n",
              "      <th>3</th>\n",
              "      <td>Kania Nurfitri Azzahra</td>\n",
              "      <td>arkeologi</td>\n",
              "      <td>kurator</td>\n",
              "      <td>0.886379</td>\n",
              "      <td>0.073744</td>\n",
              "    </tr>\n",
              "    <tr>\n",
              "      <th>12</th>\n",
              "      <td>Naufal Aji Satria</td>\n",
              "      <td>administrasi publik</td>\n",
              "      <td>edukator</td>\n",
              "      <td>0.819109</td>\n",
              "      <td>0.068147</td>\n",
              "    </tr>\n",
              "    <tr>\n",
              "      <th>0</th>\n",
              "      <td>Urmala Pingky Diavirma</td>\n",
              "      <td>ilmu administrasi negara</td>\n",
              "      <td>edukator</td>\n",
              "      <td>0.802940</td>\n",
              "      <td>0.066802</td>\n",
              "    </tr>\n",
              "  </tbody>\n",
              "</table>\n",
              "</div>"
            ],
            "text/plain": [
              "                      nama                             nama_jurusan  \\\n",
              "6                SUGIHARTO  pengelolaan arsip dan rekaman informasi   \n",
              "9     RAHMADIA ANISA PUTRI     teknologi rekayasa multimedia grafis   \n",
              "3   Kania Nurfitri Azzahra                                arkeologi   \n",
              "12       Naufal Aji Satria                      administrasi publik   \n",
              "0   Urmala Pingky Diavirma                 ilmu administrasi negara   \n",
              "\n",
              "             posisi  s_vector      skor  \n",
              "6           kurator  0.941596  0.078338  \n",
              "9   branding museum  0.927997  0.077207  \n",
              "3           kurator  0.886379  0.073744  \n",
              "12         edukator  0.819109  0.068147  \n",
              "0          edukator  0.802940  0.066802  "
            ]
          },
          "execution_count": 43,
          "metadata": {},
          "output_type": "execute_result"
        }
      ],
      "source": [
        "result_spk"
      ]
    }
  ],
  "metadata": {
    "colab": {
      "provenance": []
    },
    "kernelspec": {
      "display_name": "Python 3.11.1 64-bit",
      "language": "python",
      "name": "python3"
    },
    "language_info": {
      "codemirror_mode": {
        "name": "ipython",
        "version": 3
      },
      "file_extension": ".py",
      "mimetype": "text/x-python",
      "name": "python",
      "nbconvert_exporter": "python",
      "pygments_lexer": "ipython3",
      "version": "3.11.1"
    },
    "vscode": {
      "interpreter": {
        "hash": "b8714cde6903272b7ca4292882db5cfcaa901f73da86e8047c98a3d067e8ffa3"
      }
    }
  },
  "nbformat": 4,
  "nbformat_minor": 0
}
